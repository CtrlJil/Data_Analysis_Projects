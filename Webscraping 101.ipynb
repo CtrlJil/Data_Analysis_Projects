{
 "cells": [
  {
   "cell_type": "code",
   "execution_count": 5,
   "id": "9a294811",
   "metadata": {},
   "outputs": [
    {
     "name": "stdout",
     "output_type": "stream",
     "text": [
      "Requirement already satisfied: lxml in c:\\users\\user\\anaconda3\\lib\\site-packages (4.8.0)"
     ]
    },
    {
     "name": "stderr",
     "output_type": "stream",
     "text": [
      "\n",
      "[notice] A new release of pip is available: 23.1.2 -> 25.0.1\n",
      "[notice] To update, run: python.exe -m pip install --upgrade pip\n"
     ]
    },
    {
     "name": "stdout",
     "output_type": "stream",
     "text": [
      "\n"
     ]
    }
   ],
   "source": [
    "!pip install "
   ]
  },
  {
   "cell_type": "code",
   "execution_count": 15,
   "id": "6f85748e",
   "metadata": {},
   "outputs": [],
   "source": [
    "from bs4 import BeautifulSoup\n",
    "import requests\n",
    "import lxml\n",
    "from urllib.parse import urljoin"
   ]
  },
  {
   "cell_type": "code",
   "execution_count": 11,
   "id": "c2c9193d",
   "metadata": {},
   "outputs": [
    {
     "name": "stdout",
     "output_type": "stream",
     "text": [
      "[]\n"
     ]
    }
   ],
   "source": [
    "html_text = requests.get('https://www.scrapethissite.com/pages/frames/')\n",
    "soup = BeautifulSoup(html_text.content,'lxml')\n",
    "turtles = soup.find_all('div', class_ = 'col-md-4 turtle-family-card')\n",
    "print(turtles)"
   ]
  },
  {
   "cell_type": "code",
   "execution_count": 23,
   "id": "ce4633ff",
   "metadata": {},
   "outputs": [
    {
     "name": "stdout",
     "output_type": "stream",
     "text": [
      "Carettochelyidae\n",
      "Cheloniidae\n",
      "Chelydridae\n",
      "Dermatemydidae\n",
      "Dermochelyidae\n",
      "Emydidae\n",
      "Geoemydidae\n",
      "Kinosternidae\n",
      "Platysternidae\n",
      "Testudinidae\n",
      "Trionychidae\n",
      "Chelidae\n",
      "Pelomedusidae\n",
      "Podocnemididae\n"
     ]
    }
   ],
   "source": [
    "# Retrieve the main page\n",
    "main_url = 'https://www.scrapethissite.com/pages/frames'\n",
    "main_response = requests.get(main_url)\n",
    "main_soup = BeautifulSoup(main_response.content, 'lxml')\n",
    "\n",
    "# locate iframe tag and extract its source URL\n",
    "iframe_tag = main_soup.find('iframe')\n",
    "if iframe_tag and 'src' in iframe_tag.attrs:\n",
    "    iframe_src = iframe_tag['src']\n",
    "    # Construct the full URL for the iframe content\n",
    "    iframe_url = urljoin(main_url, iframe_src)\n",
    "\n",
    "\n",
    "    #Retrieve iframe content\n",
    "    iframe_response = requests.get(iframe_url)\n",
    "    iframe_soup = BeautifulSoup(iframe_response.content, 'lxml')\n",
    "\n",
    "    #Find and extract the desired elements within the iframe\n",
    "    turtles = iframe_soup.find_all('div', class_='col-md-4 turtle-family-card')\n",
    "    \n",
    "    #Extract and print clean text content\n",
    "    for turtle in turtles:\n",
    "        \n",
    "        #remove 'learn more from text'\n",
    "        learn_more = turtle.find('a', class_='btn btn-default btn-xs')\n",
    "        if learn_more:\n",
    "            learn_more.decompose()\n",
    "        turtle_text = turtle.get_text(separator=' ', strip=True)\n",
    "        print(turtle_text)\n",
    "else:\n",
    "    print(\"No iframe found or 'src' attribute is missing\")"
   ]
  },
  {
   "cell_type": "code",
   "execution_count": null,
   "id": "ea578eab",
   "metadata": {},
   "outputs": [],
   "source": []
  }
 ],
 "metadata": {
  "kernelspec": {
   "display_name": "Python 3 (ipykernel)",
   "language": "python",
   "name": "python3"
  },
  "language_info": {
   "codemirror_mode": {
    "name": "ipython",
    "version": 3
   },
   "file_extension": ".py",
   "mimetype": "text/x-python",
   "name": "python",
   "nbconvert_exporter": "python",
   "pygments_lexer": "ipython3",
   "version": "3.9.12"
  }
 },
 "nbformat": 4,
 "nbformat_minor": 5
}
